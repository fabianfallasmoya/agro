{
  "nbformat": 4,
  "nbformat_minor": 0,
  "metadata": {
    "kernelspec": {
      "display_name": "Python 3",
      "language": "python",
      "name": "python3"
    },
    "language_info": {
      "codemirror_mode": {
        "name": "ipython",
        "version": 2
      },
      "file_extension": ".py",
      "mimetype": "text/x-python",
      "name": "python",
      "nbconvert_exporter": "python",
      "pygments_lexer": "ipython2",
      "version": "2.7.6"
    },
    "colab": {
      "name": "EfficientDet_fabian.ipynb",
      "provenance": [],
      "collapsed_sections": [],
      "toc_visible": true,
      "include_colab_link": true
    },
    "accelerator": "GPU"
  },
  "cells": [
    {
      "cell_type": "markdown",
      "metadata": {
        "id": "view-in-github",
        "colab_type": "text"
      },
      "source": [
        "<a href=\"https://colab.research.google.com/github/fabianfallasmoya/agro/blob/master/EfficientDet_v1.ipynb\" target=\"_parent\"><img src=\"https://colab.research.google.com/assets/colab-badge.svg\" alt=\"Open In Colab\"/></a>"
      ]
    },
    {
      "cell_type": "markdown",
      "metadata": {
        "collapsed": true,
        "pycharm": {
          "name": "#%% md\n"
        },
        "id": "GI9KZ3F8TLSK",
        "colab_type": "text"
      },
      "source": [
        "# EfficientDet Training On A Custom Dataset\n",
        "\n",
        "\n",
        "\n",
        "<table align=\"left\"><td>\n",
        "  <a target=\"_blank\"  href=\"https://github.com/zylo117/Yet-Another-EfficientDet-Pytorch/blob/master/tutorial/train_shape.ipynb\">\n",
        "    <img src=\"https://www.tensorflow.org/images/GitHub-Mark-32px.png\" />View source on github\n",
        "  </a>\n",
        "</td><td>\n",
        "  <a target=\"_blank\"  href=\"https://colab.research.google.com/github/zylo117/Yet-Another-EfficientDet-Pytorch/blob/master/tutorial/train_shape.ipynb\">\n",
        "    <img width=32px src=\"https://www.tensorflow.org/images/colab_logo_32px.png\" />Run in Google Colab</a>\n",
        "</td></table>"
      ]
    },
    {
      "cell_type": "markdown",
      "metadata": {
        "id": "aYICDCZpIuH0",
        "colab_type": "text"
      },
      "source": [
        "### 0. Mount drive and download torch"
      ]
    },
    {
      "cell_type": "code",
      "metadata": {
        "id": "ut5lcP4sJP-Y",
        "colab_type": "code",
        "colab": {}
      },
      "source": [
        "from google.colab import drive\n",
        "drive.mount('/content/drive')"
      ],
      "execution_count": null,
      "outputs": []
    },
    {
      "cell_type": "code",
      "metadata": {
        "pycharm": {
          "name": "#%%\n"
        },
        "id": "90laRz20TLSN",
        "colab_type": "code",
        "colab": {}
      },
      "source": [
        "!pip install pycocotools numpy==1.16.0 opencv-python tqdm tensorboard tensorboardX pyyaml webcolors matplotlib\n",
        "!pip install torch==1.4.0\n",
        "!pip install torchvision==0.5.0"
      ],
      "execution_count": null,
      "outputs": []
    },
    {
      "cell_type": "markdown",
      "metadata": {
        "collapsed": false,
        "pycharm": {
          "name": "#%% md\n"
        },
        "id": "-R5C4DaETLSS",
        "colab_type": "text"
      },
      "source": [
        "### 1. Prepare Custom Dataset/Pretrained Weights"
      ]
    },
    {
      "cell_type": "code",
      "metadata": {
        "pycharm": {
          "name": "#%%\n"
        },
        "id": "JmCQj3rhTLSS",
        "colab_type": "code",
        "colab": {}
      },
      "source": [
        "import os\n",
        "import sys\n",
        "\n",
        "#Download EfficientDet\n",
        "if \"projects\" not in os.getcwd():\n",
        "  !git clone --depth 1 https://github.com/zylo117/Yet-Another-EfficientDet-Pytorch\n",
        "  os.chdir('Yet-Another-EfficientDet-Pytorch')\n",
        "  sys.path.append('.')\n",
        "else:\n",
        "  !git pull\n",
        "\n",
        "\n",
        "# download pretrained weights\n",
        "! mkdir weights\n",
        "! wget https://github.com/zylo117/Yet-Another-EfficientDet-Pytorch/releases/download/1.0/efficientdet-d4.pth -O weights/efficientdet-d4.pth\n",
        "\n",
        "# download dataset in the current space\n",
        "! mkdir datasets\n",
        "! cp -r '/content/drive/My Drive/agro/datasets/ds_pineapple_200_1024.zip' '/content/Yet-Another-EfficientDet-Pytorch/datasets/'\n",
        "! unzip /content/Yet-Another-EfficientDet-Pytorch/datasets/ds_pineapple_200_1024.zip -d /content/Yet-Another-EfficientDet-Pytorch/datasets/"
      ],
      "execution_count": null,
      "outputs": []
    },
    {
      "cell_type": "code",
      "metadata": {
        "id": "DfkCVX4VJThh",
        "colab_type": "code",
        "colab": {
          "base_uri": "https://localhost:8080/",
          "height": 34
        },
        "outputId": "3124c606-32f4-41c6-8907-5482db8956ce"
      },
      "source": [
        "#CREATE yml for project's config\n",
        "with open(\"/content/Yet-Another-EfficientDet-Pytorch/projects/ds_pineapple_200_1024.yml\", \"w+\") as out:\n",
        "    out.write(\"project_name: ds_pineapple_200_1024\\n\")\n",
        "    out.write(\"train_set: train\\n\")\n",
        "    out.write(\"val_set: valid\\n\")\n",
        "    out.write(\"num_gpus: 1\\n\")\n",
        "    out.write(\"mean: [0.485, 0.456, 0.406]\\n\")\n",
        "    out.write(\"std: [0.229, 0.224, 0.225]\\n\")\n",
        "    out.write(\"anchors_scales: '[2 ** 0, 2 ** (1.0 / 3.0), 2 ** (2.0 / 3.0)]'\\n\")\n",
        "    out.write(\"anchors_ratios: '[(1.0, 1.0), (1.4, 0.7), (0.7, 1.4)]'\\n\")\n",
        "    out.write(\"obj_list: ['pineapple']\\n\")\n",
        "    out.write(\"\\n\")\n",
        "    out.write(\"\\n\")\n",
        "\n",
        "#script to visualize the bounding box prediction over one image\n",
        "! cp -r '/content/drive/My Drive/agro/scripts/visualize.py' '/content/Yet-Another-EfficientDet-Pytorch/'\n",
        "\n",
        "#script to eval different datasets using the specified weights\n",
        "! cp -r '/content/drive/My Drive/agro/scripts/custom_eval.py' '/content/Yet-Another-EfficientDet-Pytorch/'\n",
        "\n",
        "#copy one image to test the predictions\n",
        "! mkdir testing\n",
        "! cp -r '/content/Yet-Another-EfficientDet-Pytorch/datasets/ds_pineapple_200_1024/valid/img (506)_jpg.rf.bd323779ac623dac6bf42e6a8aecb52b.jpg' '/content/Yet-Another-EfficientDet-Pytorch/testing/'\n",
        "print('done')"
      ],
      "execution_count": null,
      "outputs": [
        {
          "output_type": "stream",
          "text": [
            "done\n"
          ],
          "name": "stdout"
        }
      ]
    },
    {
      "cell_type": "markdown",
      "metadata": {
        "collapsed": false,
        "id": "7Q2onXNZTLSV",
        "colab_type": "text"
      },
      "source": [
        "### 2. Training"
      ]
    },
    {
      "cell_type": "code",
      "metadata": {
        "pycharm": {
          "name": "#%%\n"
        },
        "id": "a-eznEu5TLSW",
        "colab_type": "code",
        "colab": {}
      },
      "source": [
        "# consider this is a simple dataset, train head will be enough.\n",
        "! python train.py -c 4 -p ds_pineapple_200_1024 --head_only True --lr 1e-4 --batch_size 4 --load_weights weights/efficientdet-d4.pth  --num_epochs 2"
      ],
      "execution_count": null,
      "outputs": []
    },
    {
      "cell_type": "markdown",
      "metadata": {
        "collapsed": false,
        "id": "05mjrGRETLSZ",
        "colab_type": "text"
      },
      "source": [
        "### 3. Evaluation over VALIDATION"
      ]
    },
    {
      "cell_type": "code",
      "metadata": {
        "pycharm": {
          "name": "#%%\n"
        },
        "id": "9yzNyaSxTLSZ",
        "colab_type": "code",
        "colab": {}
      },
      "source": [
        "! python coco_eval.py -c 4 -p ds_pineapple_200_1024 -w logs/ds_pineapple_200_1024/efficientdet-d4_1_80.pth"
      ],
      "execution_count": null,
      "outputs": []
    },
    {
      "cell_type": "code",
      "metadata": {
        "id": "CTZMsR88Q-aS",
        "colab_type": "code",
        "colab": {
          "base_uri": "https://localhost:8080/",
          "height": 70
        },
        "outputId": "2cc1355a-e645-492c-9aed-841f42d217c6"
      },
      "source": [
        "! python visualize.py "
      ],
      "execution_count": null,
      "outputs": [
        {
          "output_type": "stream",
          "text": [
            "tcmalloc: large alloc 1560707072 bytes == 0x77e36000 @  0x7fba2fb03b6b 0x7fba2fb23379 0x7fb9da514b4a 0x7fb9da5165fa 0x7fb9dc84678a 0x7fb9dca8f30b 0x7fb9dcad6b37 0x7fb9dea96795 0x7fb9dcad6b37 0x7fb9dc83f346 0x7fb9dc8406f5 0x7fb9dcb84b9a 0x7fb9de86a866 0x7fb9dcbcf5e2 0x7fba2595699d 0x7fb9d6283221 0x7fb9d61fea4f 0x7fb9d622e631 0x7fb9d623104f 0x7fb9d622e546 0x7fb9d622a6b0 0x7fb9ddf72009 0x7fb9dec6f547 0x7fba25806077 0x7fba257d15c4 0x7fba253be1c4 0x50a635 0x50bfb4 0x509758 0x50a48d 0x50bfb4\n",
            "1\n"
          ],
          "name": "stdout"
        }
      ]
    },
    {
      "cell_type": "markdown",
      "metadata": {
        "id": "yQSwJtZZN2gB",
        "colab_type": "text"
      },
      "source": [
        "Download weights from drive"
      ]
    },
    {
      "cell_type": "code",
      "metadata": {
        "id": "9mYhzWuiN7ZN",
        "colab_type": "code",
        "colab": {}
      },
      "source": [
        "! cp -r '/content/drive/My Drive/agro/weights/UVU-ServerD7.zip' '/content/Yet-Another-EfficientDet-Pytorch/weights/'\n",
        "! unzip '/content/drive/My Drive/agro/weights/UVU-ServerD7.zip' -d /content/Yet-Another-EfficientDet-Pytorch/weights/"
      ],
      "execution_count": null,
      "outputs": []
    },
    {
      "cell_type": "markdown",
      "metadata": {
        "id": "L25MlkZWrBJC",
        "colab_type": "text"
      },
      "source": [
        "Download alternative datasets"
      ]
    },
    {
      "cell_type": "code",
      "metadata": {
        "id": "BmvVkKwKrAhm",
        "colab_type": "code",
        "colab": {}
      },
      "source": [
        "! cp -r '/content/drive/My Drive/agro/datasets/ds_pineapple_88_test.zip' '/content/Yet-Another-EfficientDet-Pytorch/datasets/'\n",
        "! unzip /content/Yet-Another-EfficientDet-Pytorch/datasets/ds_pineapple_88_test.zip -d /content/Yet-Another-EfficientDet-Pytorch/datasets/"
      ],
      "execution_count": null,
      "outputs": []
    },
    {
      "cell_type": "markdown",
      "metadata": {
        "id": "1CPG7cI_tiNj",
        "colab_type": "text"
      },
      "source": [
        "Create new yml to see the previous dataset"
      ]
    },
    {
      "cell_type": "code",
      "metadata": {
        "id": "IhiUL-7dtl16",
        "colab_type": "code",
        "colab": {}
      },
      "source": [
        "#CREATE yml for project's config\n",
        "with open(\"/content/Yet-Another-EfficientDet-Pytorch/projects/ds_pineapple_88_test.yml\", \"w+\") as out:\n",
        "    out.write(\"project_name: ds_pineapple_88_test\\n\")\n",
        "    out.write(\"test_set: test\\n\")\n",
        "    out.write(\"num_gpus: 1\\n\")\n",
        "    out.write(\"mean: [0.485, 0.456, 0.406]\\n\")\n",
        "    out.write(\"std: [0.229, 0.224, 0.225]\\n\")\n",
        "    out.write(\"anchors_scales: '[2 ** 0, 2 ** (1.0 / 3.0), 2 ** (2.0 / 3.0)]'\\n\")\n",
        "    out.write(\"anchors_ratios: '[(1.0, 1.0), (1.4, 0.7), (0.7, 1.4)]'\\n\")\n",
        "    out.write(\"obj_list: ['pineapple']\\n\")\n"
      ],
      "execution_count": null,
      "outputs": []
    },
    {
      "cell_type": "code",
      "metadata": {
        "id": "2hypUY0LO6bJ",
        "colab_type": "code",
        "colab": {}
      },
      "source": [
        "#os.listdir('weights/')\n",
        "'''\n",
        "'efficientdet-d4_50_2040.pth','efficientdet-d4_99_4000.pth','efficientdet-d4_199_8000.pth',\n",
        "'efficientdet-d4_299_12000.pth','efficientdet-d4_399_16000.pth','efficientdet-d4_499_20000.pth',\n",
        "'efficientdet-d4_599_24000.pth','efficientdet-d4_699_28000.pth','efficientdet-d4_799_32000.pth',\n",
        "'efficientdet-d4_899_36000.pth','efficientdet-d4_999_40000.pth','efficientdet-d4_1099_44000.pth',\n",
        "'efficientdet-d4_1199_48000.pth','efficientdet-d4_1299_52000.pth','efficientdet-d4_1399_56000.pth',\n",
        "'efficientdet-d4_1499_60000.pth','efficientdet-d4_1599_64000.pth','efficientdet-d4_1699_68000.pth',\n",
        "'efficientdet-d4_1799_72000.pth','efficientdet-d4_1899_76000.pth','efficientdet-d4_1999_80000.pth',\n",
        "'efficientdet-d4_2012_80500.pth'\n",
        "'''\n",
        "\n",
        "'''\n",
        "efficientdet-d7_49_8000.pth\n",
        "efficientdet-d7_99_16000.pth\n",
        "efficientdet-d7_201_32500.pth\n",
        "efficientdet-d7_301_48500.pth\n",
        "efficientdet-d7_999_161000.pth\n",
        "efficientdet-d7_1999_322000.pth'''\n"
      ],
      "execution_count": null,
      "outputs": []
    },
    {
      "cell_type": "code",
      "metadata": {
        "id": "3a3cqDVnhzuI",
        "colab_type": "code",
        "colab": {
          "base_uri": "https://localhost:8080/",
          "height": 101
        },
        "outputId": "539231f0-fdc9-4771-959a-2447b264fc29"
      },
      "source": [
        "#! python custom_eval.py -c 4 -p ds_pineapple_88_test -w weights/efficientdet-d4_1999_80000.pth"
      ],
      "execution_count": null,
      "outputs": [
        {
          "output_type": "stream",
          "text": [
            "running coco-style evaluation on project ds_pineapple_88_test, weights weights/efficientdet-d4_50_2040.pth...\n",
            "Traceback (most recent call last):\n",
            "  File \"custom_eval.py\", line 149, in <module>\n",
            "    SET_NAME = params['val_set']\n",
            "KeyError: 'val_set'\n"
          ],
          "name": "stdout"
        }
      ]
    },
    {
      "cell_type": "code",
      "metadata": {
        "id": "sq6bI3OMwNKO",
        "colab_type": "code",
        "colab": {
          "base_uri": "https://localhost:8080/",
          "height": 538
        },
        "outputId": "7f12d58f-6458-4439-c35e-adf5531b0673"
      },
      "source": [
        "! CUDA_VISIBLE_DEVICES=0 python coco_eval.py -c 7 -p ds_pineapple_200_1024 -w weights/efficientdet-d7_1999_322000.pth\n",
        "#! CUDA_VISIBLE_DEVICES=0 python coco_eval.py -c 4 -p ds_pineapple_200_1024 -w weights/efficientdet-d4_99_4000.pth"
      ],
      "execution_count": null,
      "outputs": [
        {
          "output_type": "stream",
          "text": [
            "running coco-style evaluation on project ds_pineapple_200_1024, weights weights/efficientdet-d7_1999_322000.pth...\n",
            "loading annotations into memory...\n",
            "Done (t=0.00s)\n",
            "creating index...\n",
            "index created!\n",
            "100% 41/41 [00:27<00:00,  1.48it/s]\n",
            "#-------------------------------\n",
            "1241\n",
            "#-------------------------------\n",
            "Loading and preparing results...\n",
            "DONE (t=0.00s)\n",
            "creating index...\n",
            "index created!\n",
            "BBox\n",
            "Running per image evaluation...\n",
            "Evaluate annotation type *bbox*\n",
            "DONE (t=0.62s).\n",
            "Accumulating evaluation results...\n",
            "DONE (t=0.01s).\n",
            " Average Precision  (AP) @[ IoU=0.50:0.95 | area=   all | maxDets=100 ] = 0.370\n",
            " Average Precision  (AP) @[ IoU=0.50      | area=   all | maxDets=100 ] = 0.822\n",
            " Average Precision  (AP) @[ IoU=0.75      | area=   all | maxDets=100 ] = 0.263\n",
            " Average Precision  (AP) @[ IoU=0.50:0.95 | area= small | maxDets=100 ] = -1.000\n",
            " Average Precision  (AP) @[ IoU=0.50:0.95 | area=medium | maxDets=100 ] = 0.348\n",
            " Average Precision  (AP) @[ IoU=0.50:0.95 | area= large | maxDets=100 ] = 0.412\n",
            " Average Recall     (AR) @[ IoU=0.50:0.95 | area=   all | maxDets=  1 ] = 0.030\n",
            " Average Recall     (AR) @[ IoU=0.50:0.95 | area=   all | maxDets= 10 ] = 0.281\n",
            " Average Recall     (AR) @[ IoU=0.50:0.95 | area=   all | maxDets=100 ] = 0.464\n",
            " Average Recall     (AR) @[ IoU=0.50:0.95 | area= small | maxDets=100 ] = -1.000\n",
            " Average Recall     (AR) @[ IoU=0.50:0.95 | area=medium | maxDets=100 ] = 0.445\n",
            " Average Recall     (AR) @[ IoU=0.50:0.95 | area= large | maxDets=100 ] = 0.492\n"
          ],
          "name": "stdout"
        }
      ]
    },
    {
      "cell_type": "code",
      "metadata": {
        "id": "ZT_0UuLuM_4X",
        "colab_type": "code",
        "colab": {
          "base_uri": "https://localhost:8080/",
          "height": 353
        },
        "outputId": "6fedeb10-3a47-4d59-fc75-5a069184c250"
      },
      "source": [
        "!nvidia-smi\n"
      ],
      "execution_count": null,
      "outputs": [
        {
          "output_type": "stream",
          "text": [
            "Thu Jul 30 00:52:11 2020       \n",
            "+-----------------------------------------------------------------------------+\n",
            "| NVIDIA-SMI 450.51.05    Driver Version: 418.67       CUDA Version: 10.1     |\n",
            "|-------------------------------+----------------------+----------------------+\n",
            "| GPU  Name        Persistence-M| Bus-Id        Disp.A | Volatile Uncorr. ECC |\n",
            "| Fan  Temp  Perf  Pwr:Usage/Cap|         Memory-Usage | GPU-Util  Compute M. |\n",
            "|                               |                      |               MIG M. |\n",
            "|===============================+======================+======================|\n",
            "|   0  Tesla T4            Off  | 00000000:00:04.0 Off |                    0 |\n",
            "| N/A   50C    P0    28W /  70W |      0MiB / 15079MiB |      0%      Default |\n",
            "|                               |                      |                 ERR! |\n",
            "+-------------------------------+----------------------+----------------------+\n",
            "                                                                               \n",
            "+-----------------------------------------------------------------------------+\n",
            "| Processes:                                                                  |\n",
            "|  GPU   GI   CI        PID   Type   Process name                  GPU Memory |\n",
            "|        ID   ID                                                   Usage      |\n",
            "|=============================================================================|\n",
            "|  No running processes found                                                 |\n",
            "+-----------------------------------------------------------------------------+\n"
          ],
          "name": "stdout"
        }
      ]
    },
    {
      "cell_type": "markdown",
      "metadata": {
        "id": "CybDcINx3pCP",
        "colab_type": "text"
      },
      "source": [
        "### 4. COPY weights to drive"
      ]
    },
    {
      "cell_type": "code",
      "metadata": {
        "id": "GbUFu7CQ14W-",
        "colab_type": "code",
        "colab": {}
      },
      "source": [
        "! cp -r '/content/Yet-Another-EfficientDet-Pytorch/logs/ds_pineapple_200_1024/xyz.pth' '/content/drive/My Drive/agro/weights/'"
      ],
      "execution_count": null,
      "outputs": []
    }
  ]
}