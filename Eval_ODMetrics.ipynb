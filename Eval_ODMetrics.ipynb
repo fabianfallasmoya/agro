{
  "nbformat": 4,
  "nbformat_minor": 0,
  "metadata": {
    "colab": {
      "name": "Eval_ODMetrics.ipynb",
      "provenance": [],
      "toc_visible": true,
      "mount_file_id": "1KqqU5qZaOQqjUbxO2jtLMtABEK2H6l1w",
      "authorship_tag": "ABX9TyPKZURfDScw3LqYFKd6wRnS",
      "include_colab_link": true
    },
    "kernelspec": {
      "name": "python3",
      "display_name": "Python 3"
    },
    "accelerator": "GPU"
  },
  "cells": [
    {
      "cell_type": "markdown",
      "metadata": {
        "id": "view-in-github",
        "colab_type": "text"
      },
      "source": [
        "<a href=\"https://colab.research.google.com/github/fabianfallasmoya/agro/blob/master/Eval_ODMetrics.ipynb\" target=\"_parent\"><img src=\"https://colab.research.google.com/assets/colab-badge.svg\" alt=\"Open In Colab\"/></a>"
      ]
    },
    {
      "cell_type": "code",
      "metadata": {
        "id": "VCI70-xGsRhC",
        "colab_type": "code",
        "colab": {
          "base_uri": "https://localhost:8080/",
          "height": 55
        },
        "outputId": "a7258dab-741e-403b-da64-15cbf45cc826"
      },
      "source": [
        "from google.colab import drive\n",
        "drive.mount('/content/drive')"
      ],
      "execution_count": 22,
      "outputs": [
        {
          "output_type": "stream",
          "text": [
            "Drive already mounted at /content/drive; to attempt to forcibly remount, call drive.mount(\"/content/drive\", force_remount=True).\n"
          ],
          "name": "stdout"
        }
      ]
    },
    {
      "cell_type": "code",
      "metadata": {
        "id": "w8RnGRewsmpm",
        "colab_type": "code",
        "colab": {
          "base_uri": "https://localhost:8080/",
          "height": 845
        },
        "outputId": "258d99cb-3bb2-4b01-f66e-4bb32f4818ca"
      },
      "source": [
        "!pip install pycocotools numpy==1.16.0 opencv-python tqdm tensorboard tensorboardX pyyaml webcolors matplotlib\n",
        "!pip install torch==1.4.0\n",
        "!pip install torchvision==0.5.0"
      ],
      "execution_count": 23,
      "outputs": [
        {
          "output_type": "stream",
          "text": [
            "Requirement already satisfied: pycocotools in /usr/local/lib/python3.6/dist-packages (2.0.2)\n",
            "Requirement already satisfied: numpy==1.16.0 in /usr/local/lib/python3.6/dist-packages (1.16.0)\n",
            "Requirement already satisfied: opencv-python in /usr/local/lib/python3.6/dist-packages (4.1.2.30)\n",
            "Requirement already satisfied: tqdm in /usr/local/lib/python3.6/dist-packages (4.41.1)\n",
            "Requirement already satisfied: tensorboard in /usr/local/lib/python3.6/dist-packages (2.3.0)\n",
            "Requirement already satisfied: tensorboardX in /usr/local/lib/python3.6/dist-packages (2.1)\n",
            "Requirement already satisfied: pyyaml in /usr/local/lib/python3.6/dist-packages (3.13)\n",
            "Requirement already satisfied: webcolors in /usr/local/lib/python3.6/dist-packages (1.11.1)\n",
            "Requirement already satisfied: matplotlib in /usr/local/lib/python3.6/dist-packages (3.2.2)\n",
            "Requirement already satisfied: cython>=0.27.3 in /usr/local/lib/python3.6/dist-packages (from pycocotools) (0.29.21)\n",
            "Requirement already satisfied: setuptools>=18.0 in /usr/local/lib/python3.6/dist-packages (from pycocotools) (50.3.0)\n",
            "Requirement already satisfied: absl-py>=0.4 in /usr/local/lib/python3.6/dist-packages (from tensorboard) (0.10.0)\n",
            "Requirement already satisfied: protobuf>=3.6.0 in /usr/local/lib/python3.6/dist-packages (from tensorboard) (3.12.4)\n",
            "Requirement already satisfied: grpcio>=1.24.3 in /usr/local/lib/python3.6/dist-packages (from tensorboard) (1.32.0)\n",
            "Requirement already satisfied: werkzeug>=0.11.15 in /usr/local/lib/python3.6/dist-packages (from tensorboard) (1.0.1)\n",
            "Requirement already satisfied: six>=1.10.0 in /usr/local/lib/python3.6/dist-packages (from tensorboard) (1.15.0)\n",
            "Requirement already satisfied: tensorboard-plugin-wit>=1.6.0 in /usr/local/lib/python3.6/dist-packages (from tensorboard) (1.7.0)\n",
            "Requirement already satisfied: markdown>=2.6.8 in /usr/local/lib/python3.6/dist-packages (from tensorboard) (3.2.2)\n",
            "Requirement already satisfied: requests<3,>=2.21.0 in /usr/local/lib/python3.6/dist-packages (from tensorboard) (2.23.0)\n",
            "Requirement already satisfied: google-auth<2,>=1.6.3 in /usr/local/lib/python3.6/dist-packages (from tensorboard) (1.17.2)\n",
            "Requirement already satisfied: google-auth-oauthlib<0.5,>=0.4.1 in /usr/local/lib/python3.6/dist-packages (from tensorboard) (0.4.1)\n",
            "Requirement already satisfied: wheel>=0.26; python_version >= \"3\" in /usr/local/lib/python3.6/dist-packages (from tensorboard) (0.35.1)\n",
            "Requirement already satisfied: python-dateutil>=2.1 in /usr/local/lib/python3.6/dist-packages (from matplotlib) (2.8.1)\n",
            "Requirement already satisfied: cycler>=0.10 in /usr/local/lib/python3.6/dist-packages (from matplotlib) (0.10.0)\n",
            "Requirement already satisfied: pyparsing!=2.0.4,!=2.1.2,!=2.1.6,>=2.0.1 in /usr/local/lib/python3.6/dist-packages (from matplotlib) (2.4.7)\n",
            "Requirement already satisfied: kiwisolver>=1.0.1 in /usr/local/lib/python3.6/dist-packages (from matplotlib) (1.2.0)\n",
            "Requirement already satisfied: importlib-metadata; python_version < \"3.8\" in /usr/local/lib/python3.6/dist-packages (from markdown>=2.6.8->tensorboard) (1.7.0)\n",
            "Requirement already satisfied: certifi>=2017.4.17 in /usr/local/lib/python3.6/dist-packages (from requests<3,>=2.21.0->tensorboard) (2020.6.20)\n",
            "Requirement already satisfied: idna<3,>=2.5 in /usr/local/lib/python3.6/dist-packages (from requests<3,>=2.21.0->tensorboard) (2.10)\n",
            "Requirement already satisfied: chardet<4,>=3.0.2 in /usr/local/lib/python3.6/dist-packages (from requests<3,>=2.21.0->tensorboard) (3.0.4)\n",
            "Requirement already satisfied: urllib3!=1.25.0,!=1.25.1,<1.26,>=1.21.1 in /usr/local/lib/python3.6/dist-packages (from requests<3,>=2.21.0->tensorboard) (1.24.3)\n",
            "Requirement already satisfied: pyasn1-modules>=0.2.1 in /usr/local/lib/python3.6/dist-packages (from google-auth<2,>=1.6.3->tensorboard) (0.2.8)\n",
            "Requirement already satisfied: cachetools<5.0,>=2.0.0 in /usr/local/lib/python3.6/dist-packages (from google-auth<2,>=1.6.3->tensorboard) (4.1.1)\n",
            "Requirement already satisfied: rsa<5,>=3.1.4; python_version >= \"3\" in /usr/local/lib/python3.6/dist-packages (from google-auth<2,>=1.6.3->tensorboard) (4.6)\n",
            "Requirement already satisfied: requests-oauthlib>=0.7.0 in /usr/local/lib/python3.6/dist-packages (from google-auth-oauthlib<0.5,>=0.4.1->tensorboard) (1.3.0)\n",
            "Requirement already satisfied: zipp>=0.5 in /usr/local/lib/python3.6/dist-packages (from importlib-metadata; python_version < \"3.8\"->markdown>=2.6.8->tensorboard) (3.1.0)\n",
            "Requirement already satisfied: pyasn1<0.5.0,>=0.4.6 in /usr/local/lib/python3.6/dist-packages (from pyasn1-modules>=0.2.1->google-auth<2,>=1.6.3->tensorboard) (0.4.8)\n",
            "Requirement already satisfied: oauthlib>=3.0.0 in /usr/local/lib/python3.6/dist-packages (from requests-oauthlib>=0.7.0->google-auth-oauthlib<0.5,>=0.4.1->tensorboard) (3.1.0)\n",
            "Requirement already satisfied: torch==1.4.0 in /usr/local/lib/python3.6/dist-packages (1.4.0)\n",
            "Requirement already satisfied: torchvision==0.5.0 in /usr/local/lib/python3.6/dist-packages (0.5.0)\n",
            "Requirement already satisfied: torch==1.4.0 in /usr/local/lib/python3.6/dist-packages (from torchvision==0.5.0) (1.4.0)\n",
            "Requirement already satisfied: six in /usr/local/lib/python3.6/dist-packages (from torchvision==0.5.0) (1.15.0)\n",
            "Requirement already satisfied: pillow>=4.1.1 in /usr/local/lib/python3.6/dist-packages (from torchvision==0.5.0) (7.0.0)\n",
            "Requirement already satisfied: numpy in /usr/local/lib/python3.6/dist-packages (from torchvision==0.5.0) (1.16.0)\n"
          ],
          "name": "stdout"
        }
      ]
    },
    {
      "cell_type": "markdown",
      "metadata": {
        "id": "fInrPTOfxxjn",
        "colab_type": "text"
      },
      "source": [
        "### Prepare the required repositories\n",
        "* https://github.com/zylo117/Yet-Another-EfficientDet-Pytorch\n",
        "\n",
        "* https://github.com/rafaelpadilla/Object-Detection-Metrics"
      ]
    },
    {
      "cell_type": "code",
      "metadata": {
        "id": "VoMPDqDItU0P",
        "colab_type": "code",
        "colab": {
          "base_uri": "https://localhost:8080/",
          "height": 54
        },
        "outputId": "d5918ed3-7553-4875-ebf5-5be90241a9c5"
      },
      "source": [
        "import os\n",
        "import sys\n",
        "import shutil\n",
        "#Download EfficientDet\n",
        "if \"Yet-Another-EfficientDet-Pytorch\" not in os.getcwd():\n",
        "  !git clone --depth 1 https://github.com/zylo117/Yet-Another-EfficientDet-Pytorch\n",
        "else:\n",
        "  !git pull\n",
        "\n",
        "#Download Object Detection Metrics\n",
        "if \"Object-Detection-Metrics\" not in os.getcwd():\n",
        "  !git clone --depth 1 https://github.com/rafaelpadilla/Object-Detection-Metrics\n",
        "else:\n",
        "  !git pull\n"
      ],
      "execution_count": 24,
      "outputs": [
        {
          "output_type": "stream",
          "text": [
            "fatal: destination path 'Yet-Another-EfficientDet-Pytorch' already exists and is not an empty directory.\n",
            "fatal: destination path 'Object-Detection-Metrics' already exists and is not an empty directory.\n"
          ],
          "name": "stdout"
        }
      ]
    },
    {
      "cell_type": "markdown",
      "metadata": {
        "id": "hUPg5YBkqhol",
        "colab_type": "text"
      },
      "source": [
        "# Executing the Object Detection Metrics, through Rafael's Padilla code\n",
        "\n",
        "### The next cell will be the only one to be changed"
      ]
    },
    {
      "cell_type": "code",
      "metadata": {
        "id": "gN44XpLA05hJ",
        "colab_type": "code",
        "colab": {}
      },
      "source": [
        "###These lines need to be changed by the user################\n",
        "\n",
        "project = 'apple' #This is the yml project name, also is the class name of the bboxes\n",
        "weightsDir = '/content/drive/My Drive/checkpoints/apple/apple/' #This is the directory where the weights file is located\n",
        "wieghtsFileName = 'efficientdet-d6_epoch60_step3111.pth' #The name of the weights file\n",
        "#The .zip file of the dataset, this dataset is required with the Zylo structure for efficientDet custom datasets\n",
        "datasetpath = '/content/drive/My Drive/pineapple_research/deepFruits_dataset/cocoFormat/apple.zip'\n",
        "#This directory is where the results of the evaluation will be stored\n",
        "dirForGroundTruthAndDetections = '/content/eval'\n",
        "nms_threshold = 0.4\n",
        "coefficient = 6 ## EfficientDet coefficient\n",
        "###########################################################"
      ],
      "execution_count": 57,
      "outputs": []
    },
    {
      "cell_type": "markdown",
      "metadata": {
        "id": "hdlbcUwGqxEO",
        "colab_type": "text"
      },
      "source": [
        "## Building the groundtruth and detection files"
      ]
    },
    {
      "cell_type": "code",
      "metadata": {
        "id": "rFADHOLduhyk",
        "colab_type": "code",
        "colab": {}
      },
      "source": [
        "#CREATE yml for project's config\n",
        "with open(\"/content/Yet-Another-EfficientDet-Pytorch/projects/\"+str(project)+\".yml\", \"w+\") as out:\n",
        "    out.write(\"project_name: \"+str(project)+\"\\n\")\n",
        "    out.write(\"train_set: train\\n\")\n",
        "    out.write(\"val_set: test\\n\")\n",
        "    out.write(\"num_gpus: 1\\n\")\n",
        "    out.write(\"mean: [0.485, 0.456, 0.406]\\n\")\n",
        "    out.write(\"std: [0.229, 0.224, 0.225]\\n\")\n",
        "    out.write(\"anchors_scales: '[2 ** 0, 2 ** (1.0 / 3.0), 2 ** (2.0 / 3.0)]'\\n\")\n",
        "    out.write(\"anchors_ratios: '[(1.0, 1.0), (1.4, 0.7), (0.7, 1.4)]'\\n\")\n",
        "    out.write(\"obj_list: ['\"+str(project)+\"']\\n\")\n",
        "    out.write(\"\\n\")\n",
        "    out.write(\"\\n\")"
      ],
      "execution_count": 26,
      "outputs": []
    },
    {
      "cell_type": "code",
      "metadata": {
        "id": "oyTF8U-BvWMO",
        "colab_type": "code",
        "colab": {
          "base_uri": "https://localhost:8080/",
          "height": 1000
        },
        "outputId": "bd3d3415-590b-41a0-d527-7e1ed22f805a"
      },
      "source": [
        "weightspath = weightsDir+wieghtsFileName \n",
        "! mkdir '/content/Yet-Another-EfficientDet-Pytorch/logs'\n",
        "! mkdir '/content/Yet-Another-EfficientDet-Pytorch/logs/{project}'\n",
        "! cp -r '{weightspath}' '/content/Yet-Another-EfficientDet-Pytorch/logs/{project}/'\n",
        "\n",
        "! mkdir '/content/Yet-Another-EfficientDet-Pytorch/datasets'\n",
        "! unzip '{datasetpath}' -d '/content/Yet-Another-EfficientDet-Pytorch/datasets/'"
      ],
      "execution_count": 27,
      "outputs": [
        {
          "output_type": "stream",
          "text": [
            "mkdir: cannot create directory ‘/content/Yet-Another-EfficientDet-Pytorch/logs’: File exists\n",
            "mkdir: cannot create directory ‘/content/Yet-Another-EfficientDet-Pytorch/logs/apple’: File exists\n",
            "mkdir: cannot create directory ‘/content/Yet-Another-EfficientDet-Pytorch/datasets’: File exists\n",
            "Archive:  /content/drive/My Drive/pineapple_research/deepFruits_dataset/cocoFormat/apple.zip\n",
            "replace /content/Yet-Another-EfficientDet-Pytorch/datasets/apple/annotations/instances_test.json? [y]es, [n]o, [A]ll, [N]one, [r]ename: A\n",
            "  inflating: /content/Yet-Another-EfficientDet-Pytorch/datasets/apple/annotations/instances_test.json  \n",
            "  inflating: /content/Yet-Another-EfficientDet-Pytorch/datasets/apple/annotations/instances_train.json  \n",
            "  inflating: /content/Yet-Another-EfficientDet-Pytorch/datasets/apple/test/1237_png.rf.b84f9ebc5046e7c0746f8c8098d84529.jpg  \n",
            "  inflating: /content/Yet-Another-EfficientDet-Pytorch/datasets/apple/test/Apple_Tree-106_png.rf.64b48008a499effd3c4834c246a55de3.jpg  \n",
            "  inflating: /content/Yet-Another-EfficientDet-Pytorch/datasets/apple/test/Apple-Anna-Fruit-and-leaves1_png.rf.b70c33eb586ecafcdca7cc1e20b0e941.jpg  \n",
            "  inflating: /content/Yet-Another-EfficientDet-Pytorch/datasets/apple/test/apples-on-tree_png.rf.4c974f4d57e1fe05f23ceafbdaede706.jpg  \n",
            "  inflating: /content/Yet-Another-EfficientDet-Pytorch/datasets/apple/test/Apple-tree-Alamy-large_png.rf.9f10f050c748fcedc08d84f8faef39ca.jpg  \n",
            "  inflating: /content/Yet-Another-EfficientDet-Pytorch/datasets/apple/test/apple-tree-lg_png.rf.9e10ceef1f97f02f0877dea48a11a4ab.jpg  \n",
            "  inflating: /content/Yet-Another-EfficientDet-Pytorch/datasets/apple/test/gala-apples_png.rf.0517bdc9d2f061d3a6639ae4a0f63f9b.jpg  \n",
            "  inflating: /content/Yet-Another-EfficientDet-Pytorch/datasets/apple/test/Golden_png.rf.61408ab0cb75de92b61d353665235c34.jpg  \n",
            "  inflating: /content/Yet-Another-EfficientDet-Pytorch/datasets/apple/test/maxresdefault_png.rf.03d393564e67a99589df60b6bd705be7.jpg  \n",
            "  inflating: /content/Yet-Another-EfficientDet-Pytorch/datasets/apple/test/productsquare_red-chief_20151008230618_png.rf.5eb51dea6592881f4eb0aa5aba6e9614.jpg  \n",
            "  inflating: /content/Yet-Another-EfficientDet-Pytorch/datasets/apple/test/ranetka_ermolaeva_png.rf.aaf641697bac5f30e6cb8f6f71a6e51c.jpg  \n",
            "  inflating: /content/Yet-Another-EfficientDet-Pytorch/datasets/apple/test/VinhHo-TanManChuyenDiMinnesota-35_png.rf.b895ead340226fffc6d1d09dd17fda6a.jpg  \n",
            "  inflating: /content/Yet-Another-EfficientDet-Pytorch/datasets/apple/test/Winesap-Apple-Tree-450w_png.rf.0255f8771ec56a1b839cda2d87be4c7a.jpg  \n",
            "  inflating: /content/Yet-Another-EfficientDet-Pytorch/datasets/apple/train/1_png.rf.fe104db24e2244334d1d87b72501ad55.jpg  \n",
            "  inflating: /content/Yet-Another-EfficientDet-Pytorch/datasets/apple/train/2010-12-07-05-26-38_1291641998_png.rf.2f7817c8d1628f673aa465024b1fc56f.jpg  \n",
            "  inflating: /content/Yet-Another-EfficientDet-Pytorch/datasets/apple/train/244sub_travel_9_png.rf.aec85cbdc715cb40552a8d10f42b6077.jpg  \n",
            "  inflating: /content/Yet-Another-EfficientDet-Pytorch/datasets/apple/train/2844-960x960_png.rf.bebbf216e1c345fef72711545491960f.jpg  \n",
            "  inflating: /content/Yet-Another-EfficientDet-Pytorch/datasets/apple/train/2979_png.rf.828441d6be81de2b4d80db8956bdfdef.jpg  \n",
            "  inflating: /content/Yet-Another-EfficientDet-Pytorch/datasets/apple/train/45677_png.rf.a6c67d1ef2dd0fd4cc65b8b02e3b8657.jpg  \n",
            "  inflating: /content/Yet-Another-EfficientDet-Pytorch/datasets/apple/train/47_2_png.rf.773ecded50073896f6d7fc7970f129d9.jpg  \n",
            "  inflating: /content/Yet-Another-EfficientDet-Pytorch/datasets/apple/train/6104689538_2581252714_b_png.rf.754688b4345afafb59c24199d40f41f6.jpg  \n",
            "  inflating: /content/Yet-Another-EfficientDet-Pytorch/datasets/apple/train/74477A_png.rf.8c72b0dc0e1a2750d66f06200acc7a46.jpg  \n",
            "  inflating: /content/Yet-Another-EfficientDet-Pytorch/datasets/apple/train/7807503254_9d54ae414f_z_png.rf.f421fb73b9844452cec7c36f0a1a92c0.jpg  \n",
            "  inflating: /content/Yet-Another-EfficientDet-Pytorch/datasets/apple/train/860929755-little-switzerland-ripe-condition-apple-tree-apple-fruit_png.rf.99ddd67bcf09aacf3dfc268cc7a11ed8.jpg  \n",
            "  inflating: /content/Yet-Another-EfficientDet-Pytorch/datasets/apple/train/905496294_885_png.rf.aec861f56c9acf15d9e10067b48699f1.jpg  \n",
            "  inflating: /content/Yet-Another-EfficientDet-Pytorch/datasets/apple/train/anna-apple_png.rf.b6cfcee9d7101a9e5199ad37e0da5f51.jpg  \n",
            "  inflating: /content/Yet-Another-EfficientDet-Pytorch/datasets/apple/train/APPLE_png.rf.33164147267642b80ae7f4f021ee9b4f.jpg  \n",
            "  inflating: /content/Yet-Another-EfficientDet-Pytorch/datasets/apple/train/Apple_tree_Alamy_3400740b_png.rf.87bce7463e03d48574036c8714a0ae15.jpg  \n",
            "  inflating: /content/Yet-Another-EfficientDet-Pytorch/datasets/apple/train/apple_tree_green_188c6l8-188c6ne_png.rf.df563fb631a15062192b8223c7208ddd.jpg  \n",
            "  inflating: /content/Yet-Another-EfficientDet-Pytorch/datasets/apple/train/applelele_png.rf.4f4a38951b3b9784f42e6a9fe89160ff.jpg  \n",
            "  inflating: /content/Yet-Another-EfficientDet-Pytorch/datasets/apple/train/apples-photos--big-green-apples-on-tree--close-up-94309_png.rf.437e1b49e14d596e8a53b1e9491037c4.jpg  \n",
            "  inflating: /content/Yet-Another-EfficientDet-Pytorch/datasets/apple/train/apple-tree_png.rf.942666eacbf8ec1e01bc718e980f81e3.jpg  \n",
            "  inflating: /content/Yet-Another-EfficientDet-Pytorch/datasets/apple/train/apple-tree-1_png.rf.9e10ceef1f97f02f0877dea48a11a4ab.jpg  \n",
            "  inflating: /content/Yet-Another-EfficientDet-Pytorch/datasets/apple/train/apple-tree-1262424_960_720_png.rf.cd582cc59f4b6015c599577f7760e133.jpg  \n",
            "  inflating: /content/Yet-Another-EfficientDet-Pytorch/datasets/apple/train/Apple-Tree-With-Green-Apples_png.rf.e77dfc0b417eefad11f3c653f43d9d5f.jpg  \n",
            "  inflating: /content/Yet-Another-EfficientDet-Pytorch/datasets/apple/train/bevans3_png.rf.d313dda3d0e9050a050379b576c4590c.jpg  \n",
            "  inflating: /content/Yet-Another-EfficientDet-Pytorch/datasets/apple/train/Bonsai-tree_png.rf.c81278a4f4c2ae92c90b74006b37279c.jpg  \n",
            "  inflating: /content/Yet-Another-EfficientDet-Pytorch/datasets/apple/train/CroppedImage910400-golden-delicious-apples-495-400_png.rf.0b528327fda31b6a31664f2461e9fc86.jpg  \n",
            "  inflating: /content/Yet-Another-EfficientDet-Pytorch/datasets/apple/train/Delikates_apple_cultivar_png.rf.0893bed3da02fd74e6f2641890f6cd93.jpg  \n",
            "  inflating: /content/Yet-Another-EfficientDet-Pytorch/datasets/apple/train/E12812977-14_png.rf.34d435a618a697ff903d996079f0e630.jpg  \n",
            "  inflating: /content/Yet-Another-EfficientDet-Pytorch/datasets/apple/train/easy-apple-recipes-for-fall_png.rf.503f9620b3e6dad1c6cb490701708e91.jpg  \n",
            "  inflating: /content/Yet-Another-EfficientDet-Pytorch/datasets/apple/train/Fresh-ripe-apples-on-tree-in-Kasauli_png.rf.7df8c0cf0999be998caed6f6d0957ba8.jpg  \n",
            "  inflating: /content/Yet-Another-EfficientDet-Pytorch/datasets/apple/train/fruit_apple_apple-tree_wallpaper_apple_07_png.rf.bf00bd9bf32317ee5293b50475e14a70.jpg  \n",
            "  inflating: /content/Yet-Another-EfficientDet-Pytorch/datasets/apple/train/fruit_apple_apple-tree_wallpaper_ea60142_png.rf.b49d966282cee94d50614052358fa44d.jpg  \n",
            "  inflating: /content/Yet-Another-EfficientDet-Pytorch/datasets/apple/train/Gala-2015-2-1024x768_png.rf.04aea8852f67b809dcdc696396b93b7d.jpg  \n",
            "  inflating: /content/Yet-Another-EfficientDet-Pytorch/datasets/apple/train/Golden-Delicious-Apple-1-1024x685_png.rf.9c2e643de49ca5d5cca6dff6cc1be0f5.jpg  \n",
            "  inflating: /content/Yet-Another-EfficientDet-Pytorch/datasets/apple/train/golden-delicious-apples-495-400_png.rf.0cc8300fb0e46207795497da3a6091c9.jpg  \n",
            "  inflating: /content/Yet-Another-EfficientDet-Pytorch/datasets/apple/train/granny-smith-apples_png.rf.acaaf4ec45f8440c10f43daec2013bdb.jpg  \n",
            "  inflating: /content/Yet-Another-EfficientDet-Pytorch/datasets/apple/train/green_app_png.rf.b06bafd8c21e4dfc1647944dcae3a548.jpg  \n",
            "  inflating: /content/Yet-Another-EfficientDet-Pytorch/datasets/apple/train/green-apple-tree_png.rf.a9280e943248c5125d4ffc07d8d8dacd.jpg  \n",
            "  inflating: /content/Yet-Another-EfficientDet-Pytorch/datasets/apple/train/IMG_0768_png.rf.cccf4af4da06aa1573e4f0ef41eadb95.jpg  \n",
            "  inflating: /content/Yet-Another-EfficientDet-Pytorch/datasets/apple/train/IMG_1951_png.rf.eecd153c583636dd92b8b1cbd14fef19.jpg  \n",
            "  inflating: /content/Yet-Another-EfficientDet-Pytorch/datasets/apple/train/img_2017_png.rf.00c7863054bc550d21736ca803ca61b3.jpg  \n",
            "  inflating: /content/Yet-Another-EfficientDet-Pytorch/datasets/apple/train/img_6237_png.rf.a385777e1e621713cb3691bc44bfc8fe.jpg  \n",
            "  inflating: /content/Yet-Another-EfficientDet-Pytorch/datasets/apple/train/img_6479-001-e1378168705770_png.rf.229a6650a4be4c9a2b2af9a32cb2a4ea.jpg  \n",
            "  inflating: /content/Yet-Another-EfficientDet-Pytorch/datasets/apple/train/Mcintosh_Apple_Tree_450_3_png.rf.a33f5d476df9d8c971d29e1ddbb9b2cd.jpg  \n",
            "  inflating: /content/Yet-Another-EfficientDet-Pytorch/datasets/apple/train/PinkLady-apple-tree-23_png.rf.223ea517b50520c085e658f5682faaef.jpg  \n",
            "  inflating: /content/Yet-Another-EfficientDet-Pytorch/datasets/apple/train/prune_my_wild_apple_trees_png.rf.54cd054a8a36b8f61e681253b1ce0ff8.jpg  \n",
            "  inflating: /content/Yet-Another-EfficientDet-Pytorch/datasets/apple/train/static1_png.rf.afde95a67641a5743d21daa57a901874.jpg  \n",
            "  inflating: /content/Yet-Another-EfficientDet-Pytorch/datasets/apple/train/stockvault-green-apples100101_png.rf.96f8bb8bc25c58f872b5f4d0f7307106.jpg  \n",
            "  inflating: /content/Yet-Another-EfficientDet-Pytorch/datasets/apple/train/sturmer-pippins_png.rf.b6ef0eefd6e8ed1cd2bd5c78503fa1ec.jpg  \n",
            "  inflating: /content/Yet-Another-EfficientDet-Pytorch/datasets/apple/train/tc_0048-1_png.rf.f8432876618fc01b6db4495ef48c04a7.jpg  \n",
            "  inflating: /content/Yet-Another-EfficientDet-Pytorch/datasets/apple/train/the-apple-tree-thumb_png.rf.3fca15c0edeed19c270c3f42411c3d99.jpg  \n",
            "  inflating: /content/Yet-Another-EfficientDet-Pytorch/datasets/apple/train/urban-apple-tree_png.rf.1f3378d3cc21f26e8d06d57420239d58.jpg  \n"
          ],
          "name": "stdout"
        }
      ]
    },
    {
      "cell_type": "code",
      "metadata": {
        "id": "fi1ERbvKlVL8",
        "colab_type": "code",
        "colab": {}
      },
      "source": [
        "os.chdir('/content/')\n",
        "os.chdir('Yet-Another-EfficientDet-Pytorch')\n",
        "import cv2\n",
        "import torch\n",
        "import os\n",
        "from torch.backends import cudnn\n",
        "\n",
        "from backbone import EfficientDetBackbone\n",
        "import matplotlib.pyplot as plt\n",
        "\n",
        "import numpy as np\n",
        "import yaml\n",
        "import json\n",
        "\n",
        "from efficientdet.utils import BBoxTransform, ClipBoxes\n",
        "from utils.utils import preprocess, invert_affine, postprocess\n",
        "\n",
        "def getImageDetections(imagePath,weights,nms_threshold,confidenceParam,coefficient):\n",
        "  compound_coef = coefficient\n",
        "  force_input_size = None  # set None to use default size\n",
        "  img_path  = imagePath\n",
        "\n",
        "  threshold = confidenceParam\n",
        "  iou_threshold = nms_threshold\n",
        "\n",
        "  use_cuda = True\n",
        "  use_float16 = False\n",
        "  cudnn.fastest = True\n",
        "  cudnn.benchmark = True\n",
        "\n",
        "  obj_list = ['pineapple']\n",
        "\n",
        "  # tf bilinear interpolation is different from any other's, just make do\n",
        "  input_sizes = [512, 640, 768, 896, 1024, 1280, 1280, 1536]\n",
        "  input_size = input_sizes[compound_coef] if force_input_size is None else force_input_size\n",
        "  ori_imgs, framed_imgs, framed_metas = preprocess(img_path, max_size=input_size)\n",
        "\n",
        "  if use_cuda:\n",
        "      x = torch.stack([torch.from_numpy(fi).cuda() for fi in framed_imgs], 0)\n",
        "  else:\n",
        "      x = torch.stack([torch.from_numpy(fi) for fi in framed_imgs], 0)\n",
        "\n",
        "  x = x.to(torch.float32 if not use_float16 else torch.float16).permute(0, 3, 1, 2)\n",
        "\n",
        "  model = EfficientDetBackbone(compound_coef=compound_coef, num_classes=len(obj_list),\n",
        "\n",
        "                              # replace this part with your project's anchor config\n",
        "                              ratios=[(1.0, 1.0), (1.4, 0.7), (0.7, 1.4)],\n",
        "                              scales=[2 ** 0, 2 ** (1.0 / 3.0), 2 ** (2.0 / 3.0)])\n",
        "\n",
        "  model.load_state_dict(torch.load('/content/Yet-Another-EfficientDet-Pytorch/logs/apple/'+weights))\n",
        "  model.requires_grad_(False)\n",
        "  model.eval()\n",
        "\n",
        "  if use_cuda:\n",
        "      model = model.cuda()\n",
        "  if use_float16:\n",
        "      model = model.half()\n",
        "\n",
        "  with torch.no_grad():\n",
        "      features, regression, classification, anchors = model(x)\n",
        "\n",
        "      regressBoxes = BBoxTransform()\n",
        "      clipBoxes = ClipBoxes()\n",
        "\n",
        "      out = postprocess(x,\n",
        "                        anchors, regression, classification,\n",
        "                        regressBoxes, clipBoxes,\n",
        "                        threshold, iou_threshold)\n",
        "\n",
        "  out = invert_affine(framed_metas, out)\n",
        "\n",
        "  from PIL import Image\n",
        "  import PIL\n",
        "      \n",
        "  for i in range(len(ori_imgs)):\n",
        "      if len(out[i]['rois']) == 0:\n",
        "          continue\n",
        "      detectionsList = []\n",
        "      for j in range(len(out[i]['rois'])):\n",
        "          (x1, y1, x2, y2) = out[i]['rois'][j].astype(np.int)\n",
        "          detectionsList.append((float(out[i]['scores'][j]),x1, y1, x2, y2))\n",
        "      return detectionsList\n",
        "os.chdir('/content/')"
      ],
      "execution_count": 58,
      "outputs": []
    },
    {
      "cell_type": "code",
      "metadata": {
        "id": "htQtSk9jFXzC",
        "colab_type": "code",
        "colab": {
          "base_uri": "https://localhost:8080/",
          "height": 90
        },
        "outputId": "98f3ea15-0f0a-4242-b85e-392de41c1258"
      },
      "source": [
        "! mkdir '{dirForGroundTruthAndDetections}/{project}'\n",
        "! mkdir '{dirForGroundTruthAndDetections}/{project}/groundtruths'\n",
        "! mkdir '{dirForGroundTruthAndDetections}/{project}/detections'\n",
        "! mkdir '{dirForGroundTruthAndDetections}/{project}/results'"
      ],
      "execution_count": 29,
      "outputs": [
        {
          "output_type": "stream",
          "text": [
            "mkdir: cannot create directory ‘/content/eval/apple’: File exists\n",
            "mkdir: cannot create directory ‘/content/eval/apple/groundtruths’: File exists\n",
            "mkdir: cannot create directory ‘/content/eval/apple/detections’: File exists\n",
            "mkdir: cannot create directory ‘/content/eval/apple/results’: File exists\n"
          ],
          "name": "stdout"
        }
      ]
    },
    {
      "cell_type": "code",
      "metadata": {
        "id": "9gUa5ZFeo7DB",
        "colab_type": "code",
        "colab": {}
      },
      "source": [
        "import json\n",
        "import pandas as pd\n",
        "def generateFiles(confidenceParam):\n",
        "  params = yaml.safe_load(open(f'/content/Yet-Another-EfficientDet-Pytorch/projects/{project}'+'.yml'))\n",
        "  evaluationfolder = params['val_set']\n",
        "  ##### Let´s create the Ground Truth files to evaluate them with the Object Detection Metrics\n",
        "  dirGroundTruthPath = dirForGroundTruthAndDetections+'/'+project+'/groundtruths/'\n",
        "  dirDetectionsPath = dirForGroundTruthAndDetections+'/'+project+'/detections/'\n",
        "  with open('/content/Yet-Another-EfficientDet-Pytorch/datasets/apple/annotations/instances_'+str(evaluationfolder)+'.json') as f:\n",
        "    data = json.load(f)\n",
        "\n",
        "  annotationsDataframe = pd.DataFrame.from_records(data['annotations'])\n",
        "  imagesDataframe = pd.DataFrame.from_records(data['images'])\n",
        "\n",
        "  qtyGroundTruthDets = 0\n",
        "  qtyPredictedDets = 0\n",
        "  for index,image in imagesDataframe.iterrows():\n",
        "    imageName = image['file_name'][0:len(image['file_name'])-4]\n",
        "\n",
        "    fileGroundTruth = open(dirGroundTruthPath+imageName+\".txt\",\"w\")\n",
        "    fileDetections = open(dirDetectionsPath+imageName+\".txt\",\"w\")\n",
        "\n",
        "    imageId = image['id']\n",
        "    for ind,row in annotationsDataframe.loc[annotationsDataframe['image_id'] == imageId].iterrows():\n",
        "      left = int(row['bbox'][0]) \n",
        "      top = int(row['bbox'][1])\n",
        "      w = int(row['bbox'][2])\n",
        "      h = int(row['bbox'][3])\n",
        "      right = left + w\n",
        "      bottom = top + h\n",
        "      #<class_name> <left> <top> <right> <bottom>\n",
        "\n",
        "      fileGroundTruth.write(project+\" \"+str(left)+\" \"+str(top)+\" \"+str(right)+\" \"+str(bottom)+\"\\n\")\n",
        "      qtyGroundTruthDets = qtyGroundTruthDets + 1\n",
        "    \n",
        "    fileGroundTruth.close()\n",
        "\n",
        "    ##### Let´s create the detections files to evaluate them with the Object Detection Metrics\n",
        "    \n",
        "    defaultDatasetPath = '/content/Yet-Another-EfficientDet-Pytorch/datasets/'+project+'/'+evaluationfolder+'/'\n",
        "    image_detections = getImageDetections(defaultDatasetPath+image['file_name'],wieghtsFileName,nms_threshold,confidenceParam,coefficient)\n",
        "    for confidenceScore,xd1,yd1,xd2,yd2 in image_detections:\n",
        "      fileDetections.write(project+\" \"+str(confidenceScore)+\" \"+str(xd1)+\" \"+str(yd1)+\" \"+str(xd2)+\" \"+str(yd2)+\"\\n\")\n",
        "      qtyPredictedDets = qtyPredictedDets + 1\n",
        "    fileDetections.close()\n",
        "  return (qtyGroundTruthDets,qtyPredictedDets)  "
      ],
      "execution_count": 59,
      "outputs": []
    },
    {
      "cell_type": "markdown",
      "metadata": {
        "id": "_PbSa0NwrfNC",
        "colab_type": "text"
      },
      "source": [
        "## Methods to run the evaluation over the model"
      ]
    },
    {
      "cell_type": "code",
      "metadata": {
        "id": "cIJzRgcm07o9",
        "colab_type": "code",
        "colab": {}
      },
      "source": [
        "def generateResults():\n",
        "  ! python /content/Object-Detection-Metrics/pascalvoc.py -gt {dirForGroundTruthAndDetections}/{project}/groundtruths/ -det {dirForGroundTruthAndDetections}/{project}/detections/ -t {nms_threshold} -gtformat xyrb -detformat xyrb -sp {dirForGroundTruthAndDetections}/{project}/results\n",
        "\n",
        "def collectRsultsFromFiles(): \n",
        "  with open(dirForGroundTruthAndDetections+'/'+project+'/results/results.txt',\"r\") as file1:\n",
        "          FileasList = file1.readlines()\n",
        "\n",
        "  precision = FileasList[8].split()[len(FileasList[8].split())-1]\n",
        "  recall = FileasList[9].split()[len(FileasList[9].split())-1]\n",
        "  precision = float(precision[1:len(precision)-2])\n",
        "  recall = float(recall[1:len(recall)-2])\n",
        "  f1Score = 2*((precision*recall)/(precision+recall))\n",
        "  \n",
        "  return (FileasList[6].split()[1],FileasList[7].split()[1],precision,recall,f1Score)"
      ],
      "execution_count": 72,
      "outputs": []
    },
    {
      "cell_type": "markdown",
      "metadata": {
        "id": "XbBRvdgkrorD",
        "colab_type": "text"
      },
      "source": [
        "## Showing the results"
      ]
    },
    {
      "cell_type": "markdown",
      "metadata": {
        "id": "JS8s5rNF5YZe",
        "colab_type": "text"
      },
      "source": [
        "### Showing results with a single confidence score"
      ]
    },
    {
      "cell_type": "code",
      "metadata": {
        "id": "EHNySMKf4lZx",
        "colab_type": "code",
        "colab": {
          "base_uri": "https://localhost:8080/",
          "height": 563
        },
        "outputId": "b7890abc-74c3-4cb6-cad3-1ec015adb253"
      },
      "source": [
        "groundTruth, detected = generateFiles(0.5)\n",
        "generateResults()\n",
        "\n",
        "dataset,ap,precision,recall,f1Score = collectRsultsFromFiles()\n",
        "print('##############################################')\n",
        "print('Result over the dataset: '+ dataset)\n",
        "print('Quantity of ground truth boundig boxes: '+str(groundTruth))\n",
        "print('Quantity of predicted boundig boxes: '+str(detected))\n",
        "print('The average precision is (AP): '+ap)\n",
        "print('Precision: '+str(precision))\n",
        "print('Recall: '+str(recall))\n",
        "print('F1 Score: '+str(f1Score))\n",
        "prcurveImg = cv2.imread(dirForGroundTruthAndDetections+'/'+project+'/results/'+project+'.png')\n",
        "plt.imshow(prcurveImg)\n",
        "plt.show()"
      ],
      "execution_count": 73,
      "outputs": [
        {
          "output_type": "stream",
          "text": [
            "Folder /content/eval/apple/results already exists and may contain important results.\n",
            "\n",
            "Enter 'Y' to continue. WARNING: THIS WILL REMOVE ALL THE CONTENTS OF THE FOLDER!\n",
            "Or enter 'N' to abort and choose another folder to save the results.\n",
            "y\n",
            "<Figure size 640x480 with 1 Axes>\n",
            "AP: 84.76% (apple)\n",
            "mAP: 84.76%\n",
            "##############################################\n",
            "Result over the dataset: apple\n",
            "Quantity of ground truth boundig boxes: 65\n",
            "Quantity of predicted boundig boxes: 67\n",
            "The average precision is (AP): 84.76%\n",
            "Precision: 0.87\n",
            "Recall: 0.89\n",
            "F1 Score: 0.8798863636363636\n"
          ],
          "name": "stdout"
        },
        {
          "output_type": "display_data",
          "data": {
            "image/png": "[encoded data removed]",
            "text/plain": [
              "<Figure size 432x288 with 1 Axes>"
            ]
          },
          "metadata": {
            "tags": [],
            "needs_background": "light"
          }
        }
      ]
    },
    {
      "cell_type": "markdown",
      "metadata": {
        "id": "YHbZ7RRM6BGm",
        "colab_type": "text"
      },
      "source": [
        "### Showing results with a multiple confidence score"
      ]
    },
    {
      "cell_type": "code",
      "metadata": {
        "id": "PV2iS0fW6J8N",
        "colab_type": "code",
        "colab": {
          "base_uri": "https://localhost:8080/",
          "height": 1000
        },
        "outputId": "52bf6e74-1312-4849-e712-de682a17c058"
      },
      "source": [
        "confidence_threshold = 0.05\n",
        "hop = 0.05\n",
        "import csv\n",
        "with open(f'{dirForGroundTruthAndDetections}/{project}/{project}_results_d{coefficient}.csv', \"w\") as myfile:\n",
        "      my_writer = csv.writer(myfile, delimiter=',', quotechar='\"')\n",
        "      my_writer.writerow([\"num_detections\", \"nms_threshold\", \"confidence_threshold\", \"average_precision\", \"precision\", \"recall\", \"f1_score\"])\n",
        "\n",
        "while confidence_threshold < 1:\n",
        "  ! rm -r {dirForGroundTruthAndDetections}/{project}/results\n",
        "  ! mkdir '{dirForGroundTruthAndDetections}/{project}/results'\n",
        "  groundTruth, detected = generateFiles(confidence_threshold)\n",
        "  generateResults()\n",
        "  dataset,ap,precision,recall,f1Score = collectRsultsFromFiles()\n",
        "  \n",
        "  ##Aqui hay que guar los valores en el CSV\n",
        "  with open(f'{dirForGroundTruthAndDetections}/{project}/{project}_results_d{coefficient}.csv', \"a\") as myfile:\n",
        "            my_writer = csv.writer(myfile, delimiter=',', quotechar='\"')\n",
        "            my_writer.writerow([detected, nms_threshold, confidence_threshold,ap, precision,recall,f1Score])\n",
        "\n",
        "  confidence_threshold = round(confidence_threshold + hop,2) "
      ],
      "execution_count": 77,
      "outputs": [
        {
          "output_type": "stream",
          "text": [
            "<Figure size 640x480 with 1 Axes>\n",
            "AP: 88.75% (apple)\n",
            "mAP: 88.75%\n",
            "<Figure size 640x480 with 1 Axes>\n",
            "AP: 88.38% (apple)\n",
            "mAP: 88.38%\n",
            "<Figure size 640x480 with 1 Axes>\n",
            "AP: 86.80% (apple)\n",
            "mAP: 86.80%\n",
            "<Figure size 640x480 with 1 Axes>\n",
            "AP: 86.04% (apple)\n",
            "mAP: 86.04%\n",
            "<Figure size 640x480 with 1 Axes>\n",
            "AP: 86.04% (apple)\n",
            "mAP: 86.04%\n",
            "<Figure size 640x480 with 1 Axes>\n",
            "AP: 86.04% (apple)\n",
            "mAP: 86.04%\n",
            "<Figure size 640x480 with 1 Axes>\n",
            "AP: 84.76% (apple)\n",
            "mAP: 84.76%\n",
            "<Figure size 640x480 with 1 Axes>\n",
            "AP: 84.76% (apple)\n",
            "mAP: 84.76%\n",
            "<Figure size 640x480 with 1 Axes>\n",
            "AP: 84.76% (apple)\n",
            "mAP: 84.76%\n",
            "<Figure size 640x480 with 1 Axes>\n",
            "AP: 84.76% (apple)\n",
            "mAP: 84.76%\n",
            "<Figure size 640x480 with 1 Axes>\n",
            "AP: 82.05% (apple)\n",
            "mAP: 82.05%\n",
            "<Figure size 640x480 with 1 Axes>\n",
            "AP: 82.05% (apple)\n",
            "mAP: 82.05%\n",
            "<Figure size 640x480 with 1 Axes>\n",
            "AP: 82.05% (apple)\n",
            "mAP: 82.05%\n",
            "<Figure size 640x480 with 1 Axes>\n",
            "AP: 82.05% (apple)\n",
            "mAP: 82.05%\n",
            "<Figure size 640x480 with 1 Axes>\n",
            "AP: 82.05% (apple)\n",
            "mAP: 82.05%\n",
            "<Figure size 640x480 with 1 Axes>\n",
            "AP: 82.05% (apple)\n",
            "mAP: 82.05%\n",
            "<Figure size 640x480 with 1 Axes>\n",
            "AP: 82.05% (apple)\n",
            "mAP: 82.05%\n",
            "<Figure size 640x480 with 1 Axes>\n",
            "AP: 77.88% (apple)\n",
            "mAP: 77.88%\n",
            "<Figure size 640x480 with 1 Axes>\n",
            "AP: 70.86% (apple)\n",
            "mAP: 70.86%\n"
          ],
          "name": "stdout"
        }
      ]
    }
  ]
}