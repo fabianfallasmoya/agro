{
  "nbformat": 4,
  "nbformat_minor": 0,
  "metadata": {
    "colab": {
      "name": "Tensorboard.ipynb",
      "provenance": [],
      "toc_visible": true,
      "authorship_tag": "ABX9TyOCYWflz93aTBq+vtuORqSM",
      "include_colab_link": true
    },
    "kernelspec": {
      "name": "python3",
      "display_name": "Python 3"
    }
  },
  "cells": [
    {
      "cell_type": "markdown",
      "metadata": {
        "id": "view-in-github",
        "colab_type": "text"
      },
      "source": [
        "<a href=\"https://colab.research.google.com/github/fabianfallasmoya/agro/blob/master/Tensorboard.ipynb\" target=\"_parent\"><img src=\"https://colab.research.google.com/assets/colab-badge.svg\" alt=\"Open In Colab\"/></a>"
      ]
    },
    {
      "cell_type": "markdown",
      "metadata": {
        "id": "7zpelAvnW6cb",
        "colab_type": "text"
      },
      "source": [
        "## Mount Drive"
      ]
    },
    {
      "cell_type": "code",
      "metadata": {
        "id": "lD_h15zyCMAw",
        "colab_type": "code",
        "colab": {
          "base_uri": "https://localhost:8080/",
          "height": 34
        },
        "outputId": "85f4cb00-a05c-4774-8fdf-4d501d5dce94"
      },
      "source": [
        "from google.colab import drive\n",
        "drive.mount('/content/drive')"
      ],
      "execution_count": 6,
      "outputs": [
        {
          "output_type": "stream",
          "text": [
            "Drive already mounted at /content/drive; to attempt to forcibly remount, call drive.mount(\"/content/drive\", force_remount=True).\n"
          ],
          "name": "stdout"
        }
      ]
    },
    {
      "cell_type": "markdown",
      "metadata": {
        "id": "pW5fW6DdW-m5",
        "colab_type": "text"
      },
      "source": [
        "## Manage and unzip new file"
      ]
    },
    {
      "cell_type": "code",
      "metadata": {
        "id": "7shklxBKWK8L",
        "colab_type": "code",
        "colab": {
          "base_uri": "https://localhost:8080/",
          "height": 34
        },
        "outputId": "1321fce5-818e-4be4-a71b-acc15f1b3fc1"
      },
      "source": [
        "#delete folders and content if necessary\n",
        "!rm -r apple"
      ],
      "execution_count": null,
      "outputs": [
        {
          "output_type": "stream",
          "text": [
            "rm: cannot remove 'apple': No such file or directory\n"
          ],
          "name": "stdout"
        }
      ]
    },
    {
      "cell_type": "code",
      "metadata": {
        "id": "wKG-XPP0Ccpm",
        "colab_type": "code",
        "colab": {}
      },
      "source": [
        "directory = 'apple5'\n",
        "tensorboard_zipfile = 'apple_d5.zip'\n",
        "\n",
        "!mkdir '/content/{directory}/'\n",
        "!cp -r '/content/drive/My Drive/agro/tensorboard/{tensorboard_zipfile}' '/content/{directory}/'\n",
        "!unzip '/content/{directory}/{tensorboard_zipfile}' -d '/content/{directory}/'"
      ],
      "execution_count": null,
      "outputs": []
    },
    {
      "cell_type": "markdown",
      "metadata": {
        "id": "bFO767c-XD8q",
        "colab_type": "text"
      },
      "source": [
        "## Run TensorBoard"
      ]
    },
    {
      "cell_type": "code",
      "metadata": {
        "id": "mzrVwTmNDsH5",
        "colab_type": "code",
        "colab": {
          "base_uri": "https://localhost:8080/",
          "height": 50
        },
        "outputId": "da48922a-cbe4-4fed-e1d1-a09a44de1e64"
      },
      "source": [
        "#load tensorboard\n",
        "import tensorflow as tf\n",
        "%load_ext tensorboard"
      ],
      "execution_count": 8,
      "outputs": [
        {
          "output_type": "stream",
          "text": [
            "The tensorboard extension is already loaded. To reload it, use:\n",
            "  %reload_ext tensorboard\n"
          ],
          "name": "stdout"
        }
      ]
    },
    {
      "cell_type": "code",
      "metadata": {
        "id": "g-UZP7Kxp-st",
        "colab_type": "code",
        "colab": {}
      },
      "source": [
        "#reload if necessary\n",
        "%reload_ext tensorboard"
      ],
      "execution_count": 17,
      "outputs": []
    },
    {
      "cell_type": "code",
      "metadata": {
        "id": "p3WxeWqrrMFb",
        "colab_type": "code",
        "colab": {}
      },
      "source": [
        "#kill tensorboard with specified id\n",
        "!kill 435"
      ],
      "execution_count": 13,
      "outputs": []
    },
    {
      "cell_type": "code",
      "metadata": {
        "id": "w0Mpv_AHDu4k",
        "colab_type": "code",
        "colab": {}
      },
      "source": [
        "project = 'apple5'\n",
        "%tensorboard --logdir '/content/{project}/'"
      ],
      "execution_count": null,
      "outputs": []
    }
  ]
}